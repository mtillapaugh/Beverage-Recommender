{
 "cells": [
  {
   "cell_type": "code",
   "execution_count": 2,
   "metadata": {},
   "outputs": [],
   "source": [
    "from sqlalchemy import create_engine\n",
    "# Set Up Environment\n",
    "import pandas as pd\n",
    "import requests\n",
    "import json\n",
    "from pandas.io.json import json_normalize\n",
    "\n",
    "\n",
    "# Database credentials\n",
    "postgres_user = 'postgres'\n",
    "postgres_pw = 'postgres'\n",
    "postgres_host = 'localhost'\n",
    "postgres_port = '5432'\n",
    "postgres_db = 'bev_rec'\n",
    "\n",
    "# Use the credentials to start a connection\n",
    "engine = create_engine('postgresql://{}:{}@{}:{}/{}'.format(\n",
    "    postgres_user, postgres_pw, postgres_host, postgres_port, postgres_db))"
   ]
  },
  {
   "cell_type": "code",
   "execution_count": 9,
   "metadata": {},
   "outputs": [
    {
     "name": "stdout",
     "output_type": "stream",
     "text": [
      "(1, 'Michael')\n"
     ]
    }
   ],
   "source": [
    "# Initial sql query, stored in sql variable\n",
    "sql = '''\n",
    "  SELECT *\n",
    "  FROM public.test;\n",
    "'''\n",
    "\n",
    "results = engine.execute(sql)\n",
    "engine.dispose()\n",
    "rows = results.fetchall()\n",
    "\n",
    "\n",
    "\n",
    "\n",
    "# print some results just to see what we got\n",
    "for row in rows:\n",
    "  print(row)"
   ]
  },
  {
   "cell_type": "code",
   "execution_count": 3,
   "metadata": {},
   "outputs": [],
   "source": [
    "# List of parameters to search DB\n",
    "search_parameters = [0, 1, 2, 3, 4, 5, 6, 7, 8, 9, 'a', 'b', 'c', 'd', 'e', 'f', 'g', 'h', 'i', 'j', 'k', 'l', 'm', 'n', 'o', 'p', 'q', 'r', 's', 't', 'u', 'v', 'w', 'x', 'y', 'z']\n",
    "\n",
    "url = 'https://www.thecocktaildb.com/api/json/v1/1/search.php?f='\n",
    "json_list = []\n",
    "\n",
    "for i in search_parameters:\n",
    "    r = requests.get(url+str(i))\n",
    "    # This presumes your JSON response is a dict, if the response is a list, use extend instead of append\n",
    "    json_list.append(r.json())\n",
    "    \n",
    "df = pd.json_normalize(json_list, 'drinks')"
   ]
  },
  {
   "cell_type": "code",
   "execution_count": 46,
   "metadata": {},
   "outputs": [
    {
     "name": "stdout",
     "output_type": "stream",
     "text": [
      "<class 'pandas.core.frame.DataFrame'>\n",
      "RangeIndex: 423 entries, 0 to 422\n",
      "Data columns (total 29 columns):\n",
      " #   Column           Non-Null Count  Dtype \n",
      "---  ------           --------------  ----- \n",
      " 0   idDrink          423 non-null    object\n",
      " 1   strDrink         423 non-null    object\n",
      " 2   strCategory      423 non-null    object\n",
      " 3   strIBA           63 non-null     object\n",
      " 4   strAlcoholic     423 non-null    object\n",
      " 5   strGlass         423 non-null    object\n",
      " 6   strInstructions  423 non-null    object\n",
      " 7   strDrinkThumb    423 non-null    object\n",
      " 8   strIngredient1   423 non-null    object\n",
      " 9   strIngredient2   423 non-null    object\n",
      " 10  strIngredient3   356 non-null    object\n",
      " 11  strIngredient4   226 non-null    object\n",
      " 12  strIngredient5   138 non-null    object\n",
      " 13  strIngredient6   65 non-null     object\n",
      " 14  strIngredient7   28 non-null     object\n",
      " 15  strIngredient8   7 non-null      object\n",
      " 16  strIngredient9   3 non-null      object\n",
      " 17  strIngredient10  1 non-null      object\n",
      " 18  strMeasure1      416 non-null    object\n",
      " 19  strMeasure2      406 non-null    object\n",
      " 20  strMeasure3      330 non-null    object\n",
      " 21  strMeasure4      195 non-null    object\n",
      " 22  strMeasure5      116 non-null    object\n",
      " 23  strMeasure6      53 non-null     object\n",
      " 24  strMeasure7      25 non-null     object\n",
      " 25  strMeasure8      7 non-null      object\n",
      " 26  strMeasure9      3 non-null      object\n",
      " 27  strMeasure10     2 non-null      object\n",
      " 28  all_ingredients  423 non-null    object\n",
      "dtypes: object(29)\n",
      "memory usage: 96.0+ KB\n"
     ]
    },
    {
     "name": "stderr",
     "output_type": "stream",
     "text": [
      "<ipython-input-46-99003b3c1c6f>:8: SettingWithCopyWarning: \n",
      "A value is trying to be set on a copy of a slice from a DataFrame.\n",
      "Try using .loc[row_indexer,col_indexer] = value instead\n",
      "\n",
      "See the caveats in the documentation: https://pandas.pydata.org/pandas-docs/stable/user_guide/indexing.html#returning-a-view-versus-a-copy\n",
      "  df_new['all_ingredients'] = df_new[df_new.columns[8:17]].apply(\n"
     ]
    }
   ],
   "source": [
    "df_new = df[['idDrink', 'strDrink', 'strCategory', 'strIBA', 'strAlcoholic', \n",
    "         'strGlass', 'strInstructions', 'strDrinkThumb', 'strIngredient1', \n",
    "         'strIngredient2', 'strIngredient3', 'strIngredient4', 'strIngredient5', \n",
    "         'strIngredient6', 'strIngredient7', 'strIngredient8', 'strIngredient9', \n",
    "         'strIngredient10', 'strMeasure1', 'strMeasure2', 'strMeasure3', 'strMeasure4', \n",
    "         'strMeasure5', 'strMeasure6', 'strMeasure7', 'strMeasure8', 'strMeasure9', 'strMeasure10']]\n",
    "\n",
    "df_new['all_ingredients'] = df_new[df_new.columns[8:17]].apply(\n",
    "    lambda x: ','.join(x.dropna().astype(str)),\n",
    "    axis=1\n",
    ")\n",
    "\n",
    "df_new.info()"
   ]
  },
  {
   "cell_type": "code",
   "execution_count": 38,
   "metadata": {},
   "outputs": [
    {
     "data": {
      "text/plain": [
       "(423, 280)"
      ]
     },
     "execution_count": 38,
     "metadata": {},
     "output_type": "execute_result"
    }
   ],
   "source": [
    "from sklearn.feature_extraction.text import TfidfVectorizer\n",
    "\n",
    "#Define a TF-IDF Vectorizer Object. Remove all english stop words such as 'the', 'a'\n",
    "tfidf = TfidfVectorizer(stop_words='english')\n",
    "\n",
    "#Replace NaN with an empty string\n",
    "#df_new.loc[:('strInstructions')] = df_new.loc[:('strInstructions')].fillna('')\n",
    "\n",
    "#Construct the required TF-IDF matrix by fitting and transforming the data\n",
    "tfidf_matrix = tfidf.fit_transform(df_new['all_ingredients'])\n",
    "\n",
    "#Output the shape of tfidf_matrix\n",
    "tfidf_matrix.shape"
   ]
  },
  {
   "cell_type": "code",
   "execution_count": 40,
   "metadata": {},
   "outputs": [
    {
     "data": {
      "text/plain": [
       "['caramel',\n",
       " 'carbonated',\n",
       " 'cardamom',\n",
       " 'cassis',\n",
       " 'cayenne',\n",
       " 'celery',\n",
       " 'chambord',\n",
       " 'champagne',\n",
       " 'chartreuse',\n",
       " 'cherries',\n",
       " 'cherry',\n",
       " 'chili',\n",
       " 'chocolate',\n",
       " 'cider',\n",
       " 'cinnamon']"
      ]
     },
     "execution_count": 40,
     "metadata": {},
     "output_type": "execute_result"
    }
   ],
   "source": [
    "tfidf.get_feature_names()[50:65]"
   ]
  },
  {
   "cell_type": "code",
   "execution_count": 41,
   "metadata": {},
   "outputs": [
    {
     "data": {
      "text/plain": [
       "(423, 423)"
      ]
     },
     "execution_count": 41,
     "metadata": {},
     "output_type": "execute_result"
    }
   ],
   "source": [
    "# Import linear_kernel\n",
    "from sklearn.metrics.pairwise import linear_kernel\n",
    "\n",
    "# Compute the cosine similarity matrix\n",
    "cosine_sim = linear_kernel(tfidf_matrix, tfidf_matrix)\n",
    "\n",
    "cosine_sim.shape"
   ]
  },
  {
   "cell_type": "code",
   "execution_count": 42,
   "metadata": {},
   "outputs": [
    {
     "data": {
      "text/plain": [
       "strDrink\n",
       "155 Belmont                    0\n",
       "1-900-FUK-MEUP                 1\n",
       "110 in the shade               2\n",
       "151 Florida Bushwacker         3\n",
       "252                            4\n",
       "24k nightmare                  5\n",
       "3 Wise Men                     6\n",
       "3-Mile Long Island Iced Tea    7\n",
       "410 Gone                       8\n",
       "50/50                          9\n",
       "dtype: int64"
      ]
     },
     "execution_count": 42,
     "metadata": {},
     "output_type": "execute_result"
    }
   ],
   "source": [
    "#Construct a reverse map of indices and movie titles\n",
    "#indices = pd.Series(df_new.index, index=df_new['idDrink']).drop_duplicates()\n",
    "indices = pd.Series(df_new.index, index=df_new['strDrink']).drop_duplicates()\n",
    "indices[:10]"
   ]
  },
  {
   "cell_type": "code",
   "execution_count": 47,
   "metadata": {},
   "outputs": [],
   "source": [
    "# Function that takes in drink name as input and outputs most similar drinks\n",
    "def get_recommendations(title, cosine_sim=cosine_sim):\n",
    "    # Get the index of the movie that matches the title\n",
    "    idx = indices[title]\n",
    "\n",
    "    # Get the pairwsie similarity scores of all movies with that movie\n",
    "    sim_scores = list(enumerate(cosine_sim[idx]))\n",
    "\n",
    "    # Sort the movies based on the similarity scores\n",
    "    sim_scores = sorted(sim_scores, key=lambda x: x[1], reverse=True)\n",
    "\n",
    "    # Get the scores of the 10 most similar movies\n",
    "    sim_scores = sim_scores[1:11]\n",
    "\n",
    "    # Get the drink indices\n",
    "    drink_indices = [i[0] for i in sim_scores]\n",
    "\n",
    "    # Return the top 10 most similar movies\n",
    "    return df_new[['strDrink', 'all_ingredients']].iloc[drink_indices]"
   ]
  },
  {
   "cell_type": "code",
   "execution_count": 49,
   "metadata": {},
   "outputs": [
    {
     "data": {
      "text/html": [
       "<div>\n",
       "<style scoped>\n",
       "    .dataframe tbody tr th:only-of-type {\n",
       "        vertical-align: middle;\n",
       "    }\n",
       "\n",
       "    .dataframe tbody tr th {\n",
       "        vertical-align: top;\n",
       "    }\n",
       "\n",
       "    .dataframe thead th {\n",
       "        text-align: right;\n",
       "    }\n",
       "</style>\n",
       "<table border=\"1\" class=\"dataframe\">\n",
       "  <thead>\n",
       "    <tr style=\"text-align: right;\">\n",
       "      <th></th>\n",
       "      <th>strDrink</th>\n",
       "      <th>all_ingredients</th>\n",
       "    </tr>\n",
       "  </thead>\n",
       "  <tbody>\n",
       "    <tr>\n",
       "      <th>41</th>\n",
       "      <td>B-52</td>\n",
       "      <td>Baileys irish cream,Grand Marnier,Kahlua</td>\n",
       "    </tr>\n",
       "    <tr>\n",
       "      <th>371</th>\n",
       "      <td>Talos Coffee</td>\n",
       "      <td>Grand Marnier,Coffee</td>\n",
       "    </tr>\n",
       "    <tr>\n",
       "      <th>15</th>\n",
       "      <td>A1</td>\n",
       "      <td>Gin,Grand Marnier,Lemon Juice,Grenadine</td>\n",
       "    </tr>\n",
       "    <tr>\n",
       "      <th>9</th>\n",
       "      <td>50/50</td>\n",
       "      <td>Vanilla vodka,Grand Marnier,Orange juice</td>\n",
       "    </tr>\n",
       "    <tr>\n",
       "      <th>98</th>\n",
       "      <td>Dirty Nipple</td>\n",
       "      <td>Kahlua,Sambuca,Baileys irish cream</td>\n",
       "    </tr>\n",
       "    <tr>\n",
       "      <th>269</th>\n",
       "      <td>New York Lemonade</td>\n",
       "      <td>Absolut Citron,Grand Marnier,Lemon juice,Club ...</td>\n",
       "    </tr>\n",
       "    <tr>\n",
       "      <th>136</th>\n",
       "      <td>Flaming Lamborghini</td>\n",
       "      <td>Kahlua,Sambuca,Blue Curacao,Baileys irish cream</td>\n",
       "    </tr>\n",
       "    <tr>\n",
       "      <th>123</th>\n",
       "      <td>Freddy Kruger</td>\n",
       "      <td>Jägermeister,Sambuca,Vodka</td>\n",
       "    </tr>\n",
       "    <tr>\n",
       "      <th>189</th>\n",
       "      <td>Iced Coffee Fillip</td>\n",
       "      <td>Kahlua,Coffee</td>\n",
       "    </tr>\n",
       "    <tr>\n",
       "      <th>135</th>\n",
       "      <td>Flander's Flake-Out</td>\n",
       "      <td>Sambuca,Sarsaparilla</td>\n",
       "    </tr>\n",
       "  </tbody>\n",
       "</table>\n",
       "</div>"
      ],
      "text/plain": [
       "                strDrink                                    all_ingredients\n",
       "41                  B-52           Baileys irish cream,Grand Marnier,Kahlua\n",
       "371         Talos Coffee                               Grand Marnier,Coffee\n",
       "15                    A1            Gin,Grand Marnier,Lemon Juice,Grenadine\n",
       "9                  50/50           Vanilla vodka,Grand Marnier,Orange juice\n",
       "98          Dirty Nipple                 Kahlua,Sambuca,Baileys irish cream\n",
       "269    New York Lemonade  Absolut Citron,Grand Marnier,Lemon juice,Club ...\n",
       "136  Flaming Lamborghini    Kahlua,Sambuca,Blue Curacao,Baileys irish cream\n",
       "123        Freddy Kruger                         Jägermeister,Sambuca,Vodka\n",
       "189   Iced Coffee Fillip                                      Kahlua,Coffee\n",
       "135  Flander's Flake-Out                               Sambuca,Sarsaparilla"
      ]
     },
     "execution_count": 49,
     "metadata": {},
     "output_type": "execute_result"
    }
   ],
   "source": [
    "get_recommendations('B-53')"
   ]
  },
  {
   "cell_type": "code",
   "execution_count": null,
   "metadata": {},
   "outputs": [],
   "source": []
  }
 ],
 "metadata": {
  "kernelspec": {
   "display_name": "Python 3",
   "language": "python",
   "name": "python3"
  },
  "language_info": {
   "codemirror_mode": {
    "name": "ipython",
    "version": 3
   },
   "file_extension": ".py",
   "mimetype": "text/x-python",
   "name": "python",
   "nbconvert_exporter": "python",
   "pygments_lexer": "ipython3",
   "version": "3.8.3"
  }
 },
 "nbformat": 4,
 "nbformat_minor": 4
}
